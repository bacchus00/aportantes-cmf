{
  "cells": [
    {
      "cell_type": "markdown",
      "metadata": {
        "id": "view-in-github",
        "colab_type": "text"
      },
      "source": [
        "<a href=\"https://colab.research.google.com/github/bacchus00/trabajo-dirigido/blob/main/rdfing.ipynb\" target=\"_parent\"><img src=\"https://colab.research.google.com/assets/colab-badge.svg\" alt=\"Open In Colab\"/></a>"
      ]
    },
    {
      "cell_type": "code",
      "execution_count": null,
      "metadata": {
        "colab": {
          "base_uri": "https://localhost:8080/"
        },
        "id": "pkKTv_1C3ljC",
        "outputId": "a1102512-4253-4368-8509-7d81fd974d59"
      },
      "outputs": [
        {
          "output_type": "stream",
          "name": "stdout",
          "text": [
            "Looking in indexes: https://pypi.org/simple, https://us-python.pkg.dev/colab-wheels/public/simple/\n",
            "Requirement already satisfied: rdflib in /usr/local/lib/python3.8/dist-packages (6.2.0)\n",
            "Requirement already satisfied: isodate in /usr/local/lib/python3.8/dist-packages (from rdflib) (0.6.1)\n",
            "Requirement already satisfied: pyparsing in /usr/local/lib/python3.8/dist-packages (from rdflib) (3.0.9)\n",
            "Requirement already satisfied: setuptools in /usr/local/lib/python3.8/dist-packages (from rdflib) (57.4.0)\n",
            "Requirement already satisfied: six in /usr/local/lib/python3.8/dist-packages (from isodate->rdflib) (1.15.0)\n",
            "Looking in indexes: https://pypi.org/simple, https://us-python.pkg.dev/colab-wheels/public/simple/\n",
            "Requirement already satisfied: unidecode in /usr/local/lib/python3.8/dist-packages (1.3.6)\n",
            "Looking in indexes: https://pypi.org/simple, https://us-python.pkg.dev/colab-wheels/public/simple/\n",
            "Collecting validators\n",
            "  Downloading validators-0.20.0.tar.gz (30 kB)\n",
            "Requirement already satisfied: decorator>=3.4.0 in /usr/local/lib/python3.8/dist-packages (from validators) (4.4.2)\n",
            "Building wheels for collected packages: validators\n",
            "  Building wheel for validators (setup.py) ... \u001b[?25l\u001b[?25hdone\n",
            "  Created wheel for validators: filename=validators-0.20.0-py3-none-any.whl size=19581 sha256=6560dee4e6a6f2ea70a3bb230ecc6c11254a6e6b6f447843e1107096a6045093\n",
            "  Stored in directory: /root/.cache/pip/wheels/19/09/72/3eb74d236bb48bd0f3c6c3c83e4e0c5bbfcbcad7c6c3539db8\n",
            "Successfully built validators\n",
            "Installing collected packages: validators\n",
            "Successfully installed validators-0.20.0\n"
          ]
        }
      ],
      "source": [
        "!pip install rdflib\n",
        "!pip install unidecode\n",
        "!pip install validators"
      ]
    },
    {
      "cell_type": "code",
      "execution_count": null,
      "metadata": {
        "colab": {
          "base_uri": "https://localhost:8080/"
        },
        "id": "8iWlTfS2j436",
        "outputId": "40130b84-3af8-4b3f-94be-96b00c237d05"
      },
      "outputs": [
        {
          "output_type": "stream",
          "name": "stdout",
          "text": [
            "Mounted at /content/drive\n"
          ]
        }
      ],
      "source": [
        "from google.colab import drive\n",
        "drive.mount('/content/drive')"
      ]
    },
    {
      "cell_type": "code",
      "execution_count": null,
      "metadata": {
        "id": "YEbfqNc430H1"
      },
      "outputs": [],
      "source": [
        "import pandas as pd\n",
        "import validators as val\n",
        "from rdflib import Graph, Literal, RDF, URIRef, Namespace\n",
        "from rdflib.namespace import FOAF, XSD\n",
        "import urllib.parse\n",
        "from unidecode import unidecode"
      ]
    },
    {
      "cell_type": "code",
      "execution_count": null,
      "metadata": {
        "colab": {
          "base_uri": "https://localhost:8080/"
        },
        "id": "Qqa3JXpfkHGL",
        "outputId": "2151776f-9891-4caf-fd04-eeb779bc2f57"
      },
      "outputs": [
        {
          "output_type": "stream",
          "name": "stderr",
          "text": [
            "/usr/local/lib/python3.8/dist-packages/IPython/core/interactiveshell.py:3326: DtypeWarning: Columns (8,9,10,14,17,18,22,25,28) have mixed types.Specify dtype option on import or set low_memory=False.\n",
            "  exec(code_obj, self.user_global_ns, self.user_ns)\n"
          ]
        }
      ],
      "source": [
        "df = pd.read_csv('/content/drive/MyDrive/Bushe/Trabajo Dirigido/cleaner_data.csv')"
      ]
    },
    {
      "cell_type": "code",
      "execution_count": null,
      "metadata": {
        "colab": {
          "base_uri": "https://localhost:8080/"
        },
        "id": "4HPpu4_plCn2",
        "outputId": "d5164d8d-ffc2-4aa4-8807-d7f51c0397b3"
      },
      "outputs": [
        {
          "output_type": "stream",
          "name": "stdout",
          "text": [
            "['Reembolso solicitado candidato o partido' 'No definido'\n",
            " 'Aporte reservado' 'Aporte anónimo' 'Aporte patrimonial' 'Aporte público'\n",
            " 'Anticipo financiamiento fiscal'\n",
            " 'Reembolso facturas cedidas partido politico' 'Aporte propio' nan\n",
            " 'Crédito institución financiera'\n",
            " 'Intereses crédito institución financiera'\n",
            " 'Aporte público partido politico' 'Aporte trabajo voluntario'\n",
            " 'Reembolsos facturas endosadas' 'Aporte por Usufructo'\n",
            " 'Aportes en dinero recibido por candidato de un partido politico'\n",
            " 'Aportes Reservado' 'Aporte personal del candidato' 'Aportes Anónimos'\n",
            " 'Intereses devengados por créditos con Instituciones Financieras'\n",
            " 'Aporte por trabajo voluntario' 'Créditos con Instituciones Financieras'\n",
            " 'Reembolso solicitado por cesión de derecho a partido político'\n",
            " 'Aportes Privados de Carácter Público' 'Usufructo'\n",
            " 'Reembolsos solicitado por endosos' 'Aporte Propio'\n",
            " 'Aportes Privados de Carácter Público de Partidos Politicos'\n",
            " 'Intereses por crédito con Institución Financiera' 'APORTE PROPIO'\n",
            " 'Aportes de personas naturales'\n",
            " 'Aportes en especies recibido por candidato de un partido politico'\n",
            " 'Aporte estimado por uso de un vehículo de un tercero'\n",
            " 'Aporte estimado por propaganda en espacio privado'\n",
            " 'Aporte estimado por servicios profesionales de un tercero'\n",
            " 'Aportes menores sin publicidad'\n",
            " 'Aporte estimado en especies (mantención y colaciones)'\n",
            " 'Aporte personal del candidato (vehículo, propiedades entre otros)'\n",
            " 'Aporte estimado por uso de propiedad de un tercero' 'Comodato'\n",
            " 'Aporte estimado por propaganda en medios de comunicación digital'\n",
            " 'Aporte estimado por propaganda en radioemisoras'\n",
            " 'Aporte estimado por propaganda escrita' 'Donaciones' 'Mutuos'\n",
            " 'Otros actos o contratos a título gratuito'\n",
            " 'Aportes propios de partido politico'\n",
            " 'Aportes en especies o servicios de terceros' 'Aporte con  Publicidad'\n",
            " 'Aportes en dinero de Partidos Políticos'\n",
            " 'Aporte propio en especies o servicios'\n",
            " 'Aportes en especies o servicios de partidos politicos'\n",
            " 'Aporte propio en efectivo del candidato' 'Aportes sin Publicidad'\n",
            " 'Financiamiento a partidos politicos' 'Aportes con publicidad'\n",
            " 'Aportes sin publicidad' 'Reembolso de gastos electorales'\n",
            " 'Aporte Propio por Imputacion de reembolso a candidatos'\n",
            " 'Aportes Partido Politico' 'Creditos con mandato'\n",
            " 'Aporte Propio por Imputacion de reembolso a instituciones financieras'\n",
            " 'Financiamiento a candidatos independientes'\n",
            " 'Cesion de derecho a reembolso'\n",
            " 'Imputación de gasto electoral de primarias'\n",
            " 'Imputación saldo de financiamiento primarias'\n",
            " 'Imputación de gasto presunto de partidos políticos'\n",
            " 'Aportes de Partido politico' 'Aportes con Publicidad'\n",
            " 'Aportes Partidos politicos' 'imputacion gasto primarias'\n",
            " 'Imputacion gasto presunto']\n"
          ]
        }
      ],
      "source": [
        "pd.set_option(\"display.max_rows\", None)\n",
        "print(df['Descripcion1'].unique())"
      ]
    },
    {
      "cell_type": "code",
      "source": [
        "# list of ingresos that actually are contributions\n",
        "ingresos_def = [\n",
        "  'No definido'\n",
        "  'Aporte reservado'\n",
        "  'Aporte anónimo'\n",
        "  'Aporte patrimonial'\n",
        "  'Aporte público'\n",
        "  'Aporte propio'\n",
        "  'Aporte público partido politico',\n",
        "  'Aporte trabajo voluntario',\n",
        "  'Aporte por Usufructo',\n",
        "  'Aportes en dinero recibido por candidato de un partido politico',\n",
        "  'Aportes Reservado',\n",
        "  'Aporte personal del candidato',\n",
        "  'Aportes Anónimos',\n",
        "  'Aporte por trabajo voluntario',\n",
        "  'Aportes Privados de Carácter Público',\n",
        "  'Usufructo',\n",
        "  'Aporte Propio',\n",
        "  'Aportes Privados de Carácter Público de Partidos Politicos',\n",
        "  'APORTE PROPIO',\n",
        "  'Aportes de personas naturales',\n",
        "  'Aportes en especies recibido por candidato de un partido politico',\n",
        "  'Aporte estimado por uso de un vehículo de un tercero',\n",
        "  'Aporte estimado por propaganda en espacio privado',\n",
        "  'Aporte estimado por servicios profesionales de un tercero',\n",
        "  'Aportes menores sin publicidad',\n",
        "  'Aporte estimado en especies (mantención y colaciones)',\n",
        "  'Aporte personal del candidato (vehículo, propiedades entre otros)',\n",
        "  'Aporte estimado por uso de propiedad de un tercero' 'Comodato',\n",
        "  'Aporte estimado por propaganda en medios de comunicación digital',\n",
        "  'Aporte estimado por propaganda en radioemisoras',\n",
        "  'Aporte estimado por propaganda escrita',\n",
        "  'Donaciones',\n",
        "  'Mutuos',\n",
        "  'Otros actos o contratos a título gratuito',\n",
        "  'Aportes propios de partido politico',\n",
        "  'Aportes en especies o servicios de terceros',\n",
        "  'Aporte con  Publicidad',\n",
        "  'Aportes en dinero de Partidos Políticos',\n",
        "  'Aporte propio en especies o servicios',\n",
        "  'Aportes en especies o servicios de partidos politicos',\n",
        "  'Aporte propio en efectivo del candidato',\n",
        "  'Aportes sin Publicidad',\n",
        "  'Financiamiento a partidos politicos',\n",
        "  'Aportes con publicidad',\n",
        "  'Aportes sin publicidad',\n",
        "  'Aporte Propio por Imputacion de reembolso a candidatos',\n",
        "  'Aportes Partido Politico',\n",
        "  'Aporte Propio por Imputacion de reembolso a instituciones financieras',\n",
        "  'Financiamiento a candidatos independientes',\n",
        "  'Cesion de derecho a reembolso',\n",
        "  'Imputación de gasto electoral de primarias',\n",
        "  'Imputación saldo de financiamiento primarias',\n",
        "  'Imputación de gasto presunto de partidos políticos',\n",
        "  'Aportes de Partido politico',\n",
        "  'Aportes con Publicidad',\n",
        "  'Aportes Partidos politicos']"
      ],
      "metadata": {
        "id": "HnNjiMeDEtxz"
      },
      "execution_count": null,
      "outputs": []
    },
    {
      "cell_type": "code",
      "source": [
        "# filtering only contributions\n",
        "aportes = df[df['Descripcion1'].isin(ingresos_def)]\n",
        "len(aportes.index)"
      ],
      "metadata": {
        "colab": {
          "base_uri": "https://localhost:8080/"
        },
        "id": "fOD9fp7VGZR7",
        "outputId": "54aea1cb-fa90-48f1-9bf2-c10937f112ac"
      },
      "execution_count": null,
      "outputs": [
        {
          "output_type": "execute_result",
          "data": {
            "text/plain": [
              "360168"
            ]
          },
          "metadata": {},
          "execution_count": 43
        }
      ]
    },
    {
      "cell_type": "code",
      "source": [
        "aportes = aportes"
      ],
      "metadata": {
        "id": "l-_ljn0X6DKA"
      },
      "execution_count": null,
      "outputs": []
    },
    {
      "cell_type": "code",
      "execution_count": null,
      "metadata": {
        "id": "EhiPRpXCVJfV"
      },
      "outputs": [],
      "source": [
        "# namespaces\n",
        "ctbr = Namespace(\"http://example.org/contributor/\")\n",
        "ctb = Namespace(\"http://example.org/contribution/\")\n",
        "prty = Namespace(\"http://example.org/party/\")\n",
        "elec = Namespace(\"http://example.org/election/\")\n",
        "cnd = Namespace(\"http://example.org/candidate/\")\n",
        "trry = Namespace(\"http://example.org/territory/\")\n",
        "\n",
        "#custom properties\n",
        "rut = URIRef(Namespace(\"http://example.org/my-schema/rut/\"))\n",
        "contributed = URIRef(Namespace(\"http://example.org/my-schema/contributed/\"))\n",
        "receivedBy = URIRef(Namespace(\"http://example.org/my-schema/receivedBy/\"))\n",
        "forElection = URIRef(Namespace(\"http://example.org/my-schema/forElection/\"))\n",
        "year = URIRef(Namespace(\"http://example.org/my-schema/year/\"))\n",
        "amountCLP = URIRef(Namespace(\"http://example.org/my-schema/amountCLP/\"))\n",
        "\n",
        "#predefined properties\n",
        "schema = Namespace('http://schema.org/')"
      ]
    },
    {
      "cell_type": "code",
      "source": [
        "# function to transform strings to form valid iris\n",
        "def iri_str(x):\n",
        "  a_string = unidecode(x)\n",
        "  a_string = a_string.replace(' ','-')\n",
        "  a_string = a_string.replace('Ñ','N')\n",
        "  for c in ['%', '{', '}', '<', '>','|','\"', ':']:\n",
        "    a_string = a_string.replace(c,'') \n",
        "  return a_string"
      ],
      "metadata": {
        "id": "sHU4PxS0Hhbt"
      },
      "execution_count": null,
      "outputs": []
    },
    {
      "cell_type": "code",
      "execution_count": null,
      "metadata": {
        "id": "gLLuXBD-baKF"
      },
      "outputs": [],
      "source": [
        "g = Graph()\n",
        "\n",
        "for index, row in aportes.iterrows():\n",
        "  #check for nans\n",
        "  has_contributor = row['Aportante']==row['Aportante']\n",
        "  has_rut_contributor = row['RUTAportante']==row['RUTAportante']\n",
        "  has_party = row['Partido']==row['Partido']\n",
        "  has_rut_party = row['RUTPartido']==row['RUTPartido']\n",
        "  has_candidate = row['Candidato']==row['Candidato']\n",
        "  has_rut_candidate = row['RUTCandidato']==row['RUTCandidato']\n",
        "  has_date = row['Fecha']==row['Fecha']\n",
        "  has_amount = row['Monto']==row['Monto']\n",
        "\n",
        "  #add contributor\n",
        "  giver = ''\n",
        "  if has_contributor:\n",
        "    contributor = URIRef(ctbr+iri_str(row['Aportante']))\n",
        "    giver = row['Aportante']\n",
        "    #g.add((contributor, RDF.type, FOAF.Person))\n",
        "    g.add((contributor, URIRef(schema+'name'), Literal(row['Aportante'], datatype=XSD.string)))\n",
        "    if has_rut_contributor:\n",
        "      g.add((contributor, rut, Literal(row['RUTAportante'], datatype=XSD.string)))\n",
        "\n",
        "  #add party\n",
        "  if has_party:\n",
        "    party = URIRef(prty+iri_str(row['Partido']))\n",
        "    reciever = row['Partido']\n",
        "    reciever_iri = party\n",
        "    g.add((party, URIRef(schema+'name'), Literal(row['Partido'], datatype=XSD.string)))\n",
        "    if has_rut_party:\n",
        "      g.add((party, rut, Literal(row['RUTPartido'], datatype=XSD.string)))\n",
        "\n",
        "  #add candidate\n",
        "  if has_candidate:\n",
        "    candidate = URIRef(cnd+iri_str(row['Candidato']))\n",
        "    reciever = row['Candidato']\n",
        "    reciever_iri = candidate\n",
        "    g.add((candidate, RDF.type, FOAF.Person))\n",
        "    g.add((candidate, URIRef(schema+'name'), Literal(row['Candidato'], datatype=XSD.string)))\n",
        "    if has_rut_candidate:\n",
        "      g.add((candidate, rut, Literal(row['RUTCandidato'], datatype=XSD.string)))\n",
        "    if has_party:\n",
        "      g.add((candidate, URIRef(schema+'memberOf'), party))\n",
        "\n",
        "\n",
        "  #add election\n",
        "  election = URIRef(elec+iri_str(row['Eleccion']))\n",
        "  g.add((election, year, Literal(row['Archivo'].split('-')[0], datatype=XSD.gYear)))\n",
        "  territories = [\n",
        "    'TerritorioElectoral', \n",
        "    'Comuna',\n",
        "    'Region', \n",
        "    'Distrito',\n",
        "    'Circunscripcion', \n",
        "    'CircunscripcionSenatorial',\n",
        "    'CircunscripcionProvincial']\n",
        "  for territory in territories:\n",
        "    if row[territory] == row[territory]:\n",
        "      g.add((election, URIRef(schema+'location'), Literal(row[territory], datatype=XSD.string)))\n",
        "    \n",
        "  #add contribution\n",
        "  contribution = URIRef(ctb + iri_str(giver) +'-a-' + iri_str(reciever) + '-' + str(row['Fecha'])+'-'+str(index))\n",
        "  if has_amount:\n",
        "    g.add((contribution, amountCLP, Literal(int(row['Monto']), datatype=XSD.int)))\n",
        "  if has_date:\n",
        "    g.add((contribution, URIRef(schema+'datePosted'), Literal(row['Fecha'], datatype=XSD.date)))\n",
        "  if has_contributor:\n",
        "    g.add((contributor, contributed, contribution))\n",
        "  g.add((contribution, receivedBy, reciever_iri))\n",
        "  g.add((contribution, forElection, election))"
      ]
    },
    {
      "cell_type": "code",
      "source": [
        "# saving results to ttl\n",
        "g.serialize(destination=\"/content/drive/MyDrive/Bushe/Trabajo Dirigido/aportes.ttl\")"
      ],
      "metadata": {
        "colab": {
          "base_uri": "https://localhost:8080/"
        },
        "id": "LzeoD4wTTByk",
        "outputId": "4c988656-9842-4ead-dd9a-dac5fb2a0c62"
      },
      "execution_count": null,
      "outputs": [
        {
          "output_type": "execute_result",
          "data": {
            "text/plain": [
              "<Graph identifier=N8ed0f9a55ae846b1bd3dc85ea3fb7b48 (<class 'rdflib.graph.Graph'>)>"
            ]
          },
          "metadata": {},
          "execution_count": 48
        }
      ]
    }
  ],
  "metadata": {
    "colab": {
      "provenance": [],
      "authorship_tag": "ABX9TyNlgp4dIkELDozN6SA/YPFB",
      "include_colab_link": true
    },
    "kernelspec": {
      "display_name": "Python 3",
      "name": "python3"
    },
    "language_info": {
      "name": "python"
    },
    "accelerator": "GPU",
    "gpuClass": "standard"
  },
  "nbformat": 4,
  "nbformat_minor": 0
}